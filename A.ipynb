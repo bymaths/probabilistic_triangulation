{
 "cells": [
  {
   "cell_type": "code",
   "execution_count": 2,
   "metadata": {},
   "outputs": [],
   "source": [
    "import os\n",
    "from torch.utils.data import Dataset\n",
    "import numpy as np\n",
    "from collections import defaultdict\n",
    "from tqdm import tqdm"
   ]
  },
  {
   "cell_type": "code",
   "execution_count": 35,
   "metadata": {},
   "outputs": [],
   "source": [
    "class H36M(Dataset):\n",
    "\n",
    "    def __init__(self, label_path = '../Data/H36M_pose.npy',istrain=True):\n",
    "        super().__init__()\n",
    "        label = np.load(label_path,allow_pickle=True).item()\n",
    "        self.istrain = istrain\n",
    "        \n",
    "        self.cameras = label['subject_cameras']\n",
    "        self.db = label['train'] if self.istrain else label['test']\n",
    "\n",
    "    def __len__(self):\n",
    "        return len(self.db)\n",
    "    \n",
    "    def __getitem__(self, index):\n",
    "        frame = self.db[index]\n",
    "        camera = self.cameras[frame['subject_index']]\n",
    "        return {\n",
    "            'pose/3d': frame['pose/3d'],\n",
    "            'R': camera['R'],\n",
    "            't': camera['t'],\n",
    "            'K': camera['K']\n",
    "        }\n"
   ]
  },
  {
   "cell_type": "code",
   "execution_count": 36,
   "metadata": {},
   "outputs": [],
   "source": [
    "h36m = H36M()"
   ]
  },
  {
   "cell_type": "code",
   "execution_count": 37,
   "metadata": {},
   "outputs": [
    {
     "data": {
      "text/plain": [
       "(4, 3, 3)"
      ]
     },
     "execution_count": 37,
     "metadata": {},
     "output_type": "execute_result"
    }
   ],
   "source": [
    "h36m[0]['R'].shape"
   ]
  },
  {
   "cell_type": "code",
   "execution_count": null,
   "metadata": {},
   "outputs": [],
   "source": []
  }
 ],
 "metadata": {
  "kernelspec": {
   "display_name": "face",
   "language": "python",
   "name": "python3"
  },
  "language_info": {
   "codemirror_mode": {
    "name": "ipython",
    "version": 3
   },
   "file_extension": ".py",
   "mimetype": "text/x-python",
   "name": "python",
   "nbconvert_exporter": "python",
   "pygments_lexer": "ipython3",
   "version": "3.8.17"
  },
  "orig_nbformat": 4
 },
 "nbformat": 4,
 "nbformat_minor": 2
}
